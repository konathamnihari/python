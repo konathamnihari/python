{
 "cells": [
  {
   "cell_type": "code",
   "execution_count": 3,
   "id": "176f4719-9f0b-496b-8035-4e556b3efe3c",
   "metadata": {},
   "outputs": [
    {
     "name": "stdout",
     "output_type": "stream",
     "text": [
      "Employee Id: 101 \n",
      "Employee Name: Nihari \n",
      "Employee Salary: 50000\n"
     ]
    }
   ],
   "source": [
    "id=101\n",
    "ename=\"Nihari\"\n",
    "salary=50000\n",
    "print(\"Employee Id:\",id,\"\\nEmployee Name:\",ename,\"\\nEmployee Salary:\",salary)"
   ]
  },
  {
   "cell_type": "code",
   "execution_count": 7,
   "id": "a7040e8f-fde9-4d35-a2cb-d8b5c5de2bf0",
   "metadata": {},
   "outputs": [
    {
     "name": "stdout",
     "output_type": "stream",
     "text": [
      "Employee Id:101,Employee Name:Nihari and Employee Salary:50000\n"
     ]
    }
   ],
   "source": [
    "id=101\n",
    "ename=\"Nihari\"\n",
    "salary=50000\n",
    "print(\"Employee Id:{},Employee Name:{} and Employee Salary:{}\".format(id,ename,salary))"
   ]
  },
  {
   "cell_type": "code",
   "execution_count": 8,
   "id": "e63fbbe9-f0c4-479c-beb5-fe6827000e79",
   "metadata": {},
   "outputs": [
    {
     "name": "stdout",
     "output_type": "stream",
     "text": [
      "Employee Id:101,Employee Name:Nihari and Employee Salary:50000\n"
     ]
    }
   ],
   "source": [
    "id=101\n",
    "ename=\"Nihari\"\n",
    "salary=50000\n",
    "print(\"Employee Id:{a},Employee Name:{b} and Employee Salary:{c}\".format(a=id,b=ename,c=salary))"
   ]
  },
  {
   "cell_type": "code",
   "execution_count": null,
   "id": "b5fdff0c-02e1-4a1d-990e-308df62c2ad0",
   "metadata": {},
   "outputs": [],
   "source": []
  }
 ],
 "metadata": {
  "kernelspec": {
   "display_name": "Python 3 (ipykernel)",
   "language": "python",
   "name": "python3"
  },
  "language_info": {
   "codemirror_mode": {
    "name": "ipython",
    "version": 3
   },
   "file_extension": ".py",
   "mimetype": "text/x-python",
   "name": "python",
   "nbconvert_exporter": "python",
   "pygments_lexer": "ipython3",
   "version": "3.11.4"
  }
 },
 "nbformat": 4,
 "nbformat_minor": 5
}
