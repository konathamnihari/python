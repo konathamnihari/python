{
 "cells": [
  {
   "cell_type": "code",
   "execution_count": 3,
   "id": "a77841f5-069a-4000-8c21-ba692bf684a7",
   "metadata": {},
   "outputs": [
    {
     "name": "stdout",
     "output_type": "stream",
     "text": [
      "hello world\n",
      "good morning\n"
     ]
    }
   ],
   "source": [
    "print(\"hello world\")\n",
    "print(\"good morning\")"
   ]
  },
  {
   "cell_type": "code",
   "execution_count": 14,
   "id": "fbdcb04c-e5fa-4122-915e-f45b7a4693d3",
   "metadata": {},
   "outputs": [
    {
     "name": "stdout",
     "output_type": "stream",
     "text": [
      "hello  good morning\n"
     ]
    }
   ],
   "source": [
    "print(\"hello\",end=\"  \")\n",
    "print(\"good morning\")"
   ]
  },
  {
   "cell_type": "code",
   "execution_count": 26,
   "id": "86bee2ec-569f-4ce2-a485-417df312f2ba",
   "metadata": {},
   "outputs": [
    {
     "name": "stdout",
     "output_type": "stream",
     "text": [
      "hello \n",
      "good morning\n"
     ]
    }
   ],
   "source": [
    "print(\"hello\",\"\\ngood morning\")"
   ]
  },
  {
   "cell_type": "code",
   "execution_count": 27,
   "id": "bf77a820-ed3d-4c54-84b4-577d621abfdf",
   "metadata": {},
   "outputs": [
    {
     "name": "stdout",
     "output_type": "stream",
     "text": [
      "hello \tgood morning\n"
     ]
    }
   ],
   "source": [
    "print(\"hello\",\"\\tgood morning\")"
   ]
  },
  {
   "cell_type": "code",
   "execution_count": 33,
   "id": "0d30ba8c-315b-4900-aea8-7ff4752acc40",
   "metadata": {},
   "outputs": [
    {
     "name": "stdout",
     "output_type": "stream",
     "text": [
      "hello\n",
      "good morning\n"
     ]
    }
   ],
   "source": [
    "print(\"hello\",sep=':')\n",
    "print(\"good morning\")"
   ]
  },
  {
   "cell_type": "code",
   "execution_count": 29,
   "id": "c8167997-5a94-4b82-9185-7141d1b66df1",
   "metadata": {},
   "outputs": [
    {
     "name": "stdout",
     "output_type": "stream",
     "text": [
      "Employee Id: 101 \n",
      "Employee Name: Nihari\n"
     ]
    }
   ],
   "source": [
    "id=101\n",
    "ename=\"Nihari\"\n",
    "print(\"Employee Id:\",id,\"\\nEmployee Name:\",ename)"
   ]
  },
  {
   "cell_type": "code",
   "execution_count": 31,
   "id": "c8dc14fb-6a7a-4c41-ac99-fd5fad9148e5",
   "metadata": {},
   "outputs": [
    {
     "name": "stdout",
     "output_type": "stream",
     "text": [
      "101 Nihari\n"
     ]
    }
   ],
   "source": [
    "id=101\n",
    "name=\"Nihari\"\n",
    "print(id,name)"
   ]
  },
  {
   "cell_type": "code",
   "execution_count": 32,
   "id": "86ff2084-bf18-4fd5-b456-5185d8ec2d8f",
   "metadata": {},
   "outputs": [
    {
     "name": "stdout",
     "output_type": "stream",
     "text": [
      "101:Nihari\n"
     ]
    }
   ],
   "source": [
    "id=101\n",
    "name=\"Nihari\"\n",
    "print(id,name,sep=':')"
   ]
  },
  {
   "cell_type": "code",
   "execution_count": null,
   "id": "9c0b86b8-2273-4c98-8b1d-e8d6638ee6ac",
   "metadata": {},
   "outputs": [],
   "source": []
  }
 ],
 "metadata": {
  "kernelspec": {
   "display_name": "Python 3 (ipykernel)",
   "language": "python",
   "name": "python3"
  },
  "language_info": {
   "codemirror_mode": {
    "name": "ipython",
    "version": 3
   },
   "file_extension": ".py",
   "mimetype": "text/x-python",
   "name": "python",
   "nbconvert_exporter": "python",
   "pygments_lexer": "ipython3",
   "version": "3.11.4"
  }
 },
 "nbformat": 4,
 "nbformat_minor": 5
}
