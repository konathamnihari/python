{
 "cells": [
  {
   "cell_type": "code",
   "execution_count": 3,
   "id": "3ca37fb6-ef3e-4f71-8ee8-8b57ee7d366a",
   "metadata": {},
   "outputs": [
    {
     "name": "stdout",
     "output_type": "stream",
     "text": [
      "Dheeraj is eligible for hike\n"
     ]
    }
   ],
   "source": [
    "e_name=\"Dheeraj\"\n",
    "e_sal=45000\n",
    "if e_sal>35000:\n",
    "    print(e_name+\" \"+\"is eligible for hike\")"
   ]
  },
  {
   "cell_type": "code",
   "execution_count": 4,
   "id": "7e3f4203-d080-4b91-9dbe-04c149973ef2",
   "metadata": {},
   "outputs": [
    {
     "name": "stdout",
     "output_type": "stream",
     "text": [
      "Dheeraj is not eligible for hike\n"
     ]
    }
   ],
   "source": [
    "e_name=\"Dheeraj\"\n",
    "e_sal=25000\n",
    "if e_sal>35000:\n",
    "    print(e_name+\" \"+\"is eligible for hike\")\n",
    "else:\n",
    "   print(e_name+\" \"+\"is not eligible for hike\")"
   ]
  },
  {
   "cell_type": "code",
   "execution_count": 6,
   "id": "3e728ff1-bb07-43a2-9a61-8d604b17cff0",
   "metadata": {},
   "outputs": [
    {
     "name": "stdin",
     "output_type": "stream",
     "text": [
      "enter employee salary 45000\n"
     ]
    },
    {
     "name": "stdout",
     "output_type": "stream",
     "text": [
      "eligible for hike\n"
     ]
    }
   ],
   "source": [
    "sal=input(\"enter employee salary\")\n",
    "if int(sal)>35000:\n",
    "    print(\"eligible for hike\")\n",
    "else:\n",
    "    print(\"not eligible for hike\")\n"
   ]
  },
  {
   "cell_type": "code",
   "execution_count": 8,
   "id": "89a755df-d708-46ed-b354-702929967767",
   "metadata": {},
   "outputs": [
    {
     "name": "stdin",
     "output_type": "stream",
     "text": [
      "enter first number 23\n",
      "enter second number 89\n"
     ]
    },
    {
     "name": "stdout",
     "output_type": "stream",
     "text": [
      "a is min\n"
     ]
    }
   ],
   "source": [
    "a=int(input(\"enter first number\"))\n",
    "b=int(input(\"enter second number\"))\n",
    "if a<b:\n",
    "    print(\"a is min\")\n",
    "else:\n",
    "    print(\"b is min\")"
   ]
  },
  {
   "cell_type": "code",
   "execution_count": 11,
   "id": "e0137254-3ef9-4a5e-bece-51c983f0d4e7",
   "metadata": {},
   "outputs": [
    {
     "name": "stdin",
     "output_type": "stream",
     "text": [
      "enter a value 87\n",
      "enter b value 76\n"
     ]
    },
    {
     "name": "stdout",
     "output_type": "stream",
     "text": [
      "76 is min number\n"
     ]
    }
   ],
   "source": [
    "#ternary operator in python\n",
    "a=input(\"enter a value\")\n",
    "b=input(\"enter b value\")      \n",
    "min=a if a<b else b\n",
    "print(min,\"is min number\")"
   ]
  },
  {
   "cell_type": "code",
   "execution_count": null,
   "id": "d1007dc6-6512-4448-bbb2-8d9517810fea",
   "metadata": {},
   "outputs": [],
   "source": []
  }
 ],
 "metadata": {
  "kernelspec": {
   "display_name": "Python 3 (ipykernel)",
   "language": "python",
   "name": "python3"
  },
  "language_info": {
   "codemirror_mode": {
    "name": "ipython",
    "version": 3
   },
   "file_extension": ".py",
   "mimetype": "text/x-python",
   "name": "python",
   "nbconvert_exporter": "python",
   "pygments_lexer": "ipython3",
   "version": "3.11.4"
  }
 },
 "nbformat": 4,
 "nbformat_minor": 5
}
